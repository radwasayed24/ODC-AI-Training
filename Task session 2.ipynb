{
 "cells": [
  {
   "cell_type": "markdown",
   "id": "62409748",
   "metadata": {},
   "source": [
    "1. Task 1 : python library or extension that hide the password while typing it"
   ]
  },
  {
   "cell_type": "code",
   "execution_count": 1,
   "id": "683636f5",
   "metadata": {},
   "outputs": [],
   "source": [
    "import getpass"
   ]
  },
  {
   "cell_type": "code",
   "execution_count": 2,
   "id": "8e7cd4b4",
   "metadata": {},
   "outputs": [
    {
     "name": "stdout",
     "output_type": "stream",
     "text": [
      "Enter Username: radwasayed\n",
      "Enter Password: ········\n",
      "2411200024112000\n",
      "login success\n"
     ]
    }
   ],
   "source": [
    "username = \"radwasayed\"\n",
    "password = 24112000\n",
    "\n",
    "x = input(\"Enter Username: \")\n",
    "y = int(input(getpass.getpass(\"Enter Password: \")))\n",
    "\n",
    "if x == username and y == password:\n",
    "    print(\"login success\")\n",
    "else:\n",
    "    print(\"wrong username or password\")"
   ]
  },
  {
   "cell_type": "markdown",
   "id": "0d8b28cb",
   "metadata": {},
   "source": [
    "3. Task 3 : code that do the same performance of DO While in python"
   ]
  },
  {
   "cell_type": "code",
   "execution_count": 3,
   "id": "b2cef3e6",
   "metadata": {},
   "outputs": [
    {
     "name": "stdout",
     "output_type": "stream",
     "text": [
      "1\n",
      "2\n",
      "3\n",
      "4\n",
      "5\n",
      "6\n",
      "7\n",
      "8\n",
      "9\n",
      "10\n"
     ]
    }
   ],
   "source": [
    "i = 1  \n",
    "  \n",
    "while True:  \n",
    "    print(i)  \n",
    "    i = i + 1  \n",
    "    if(i > 10):  \n",
    "        break "
   ]
  },
  {
   "cell_type": "markdown",
   "id": "01ef35ba",
   "metadata": {},
   "source": [
    "5. Task 5 : how to make infifnite for loop in python without using extra memory"
   ]
  },
  {
   "cell_type": "code",
   "execution_count": null,
   "id": "5abbd614",
   "metadata": {},
   "outputs": [],
   "source": [
    "def zero_to_infinity():\n",
    "    i = 0\n",
    "    while True:\n",
    "        yield i\n",
    "        i += 1"
   ]
  },
  {
   "cell_type": "markdown",
   "id": "fe902726",
   "metadata": {},
   "source": [
    "6. Task 6 : what is dependency injection\n",
    "\n",
    "Dependency injection is a technique built on the top of the Inversion of Control.\n",
    "\n",
    "The main idea is to separate the construction and usage of objects. As a software engineer, your objective is to build software so that it is modular and easy to extend\n",
    "\n",
    "class S3FileUploader(FileUploader):\n",
    "    def __init__(self, bucket_name: str):\n",
    "        self._bucket_name = bucket_name\n",
    "        self._sdk_client = boto3.client(\"s3\") # our dependency"
   ]
  },
  {
   "cell_type": "markdown",
   "id": "9cc219ba",
   "metadata": {},
   "source": [
    "7. Task 7 : what are the clean code rules or principles\n",
    "\n",
    "\n",
    "1. Use descriptive names\n",
    "2. Use empty lines to create a readable code\n",
    "3. Do not send more than three parameters into a function\n",
    "4. Remember the functions must do only one thing\n",
    "5. Functions must be small\n",
    "6. Reduce the number of characters in a line\n",
    "7. Avoid using comments\n",
    "8. Create a descriptive message when you create a commit\n",
    "9. Use Unit Test and practice Test Driven Development\n",
    "10. Learn Design Patterns"
   ]
  },
  {
   "cell_type": "markdown",
   "id": "6c478b82",
   "metadata": {},
   "source": [
    "8. Task 8 : why recursive is faster than itterative\n",
    "\n",
    "In general, if your algorithm has to solve all the sub problems of the original problem, then an iterative algorithm is better, because recursive algorithms have an overhead for procedure calls and iterative algorithms don't have that overhead.\n",
    "1) Recursive algorithms are easier to understand.\n",
    "\n",
    "2) Recursive algorithms require additional stack for storing function calls(function call stack ) .\n",
    "\n",
    "3) For functional programming languages,recursion is the only way for flow control and program control."
   ]
  },
  {
   "cell_type": "markdown",
   "id": "d442a62b",
   "metadata": {},
   "source": [
    "9. Task 9 : Threads research\n",
    "\n",
    "A thread is a separate flow of execution. This means that your program will have two things happening at once. But for most Python 3 implementations the different threads do not actually execute at the same time: they merely appear to\n"
   ]
  },
  {
   "cell_type": "code",
   "execution_count": null,
   "id": "cbe4074a",
   "metadata": {},
   "outputs": [],
   "source": []
  }
 ],
 "metadata": {
  "kernelspec": {
   "display_name": "Python 3 (ipykernel)",
   "language": "python",
   "name": "python3"
  },
  "language_info": {
   "codemirror_mode": {
    "name": "ipython",
    "version": 3
   },
   "file_extension": ".py",
   "mimetype": "text/x-python",
   "name": "python",
   "nbconvert_exporter": "python",
   "pygments_lexer": "ipython3",
   "version": "3.9.12"
  }
 },
 "nbformat": 4,
 "nbformat_minor": 5
}
